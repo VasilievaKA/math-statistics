{
  "nbformat": 4,
  "nbformat_minor": 0,
  "metadata": {
    "colab": {
      "provenance": []
    },
    "kernelspec": {
      "name": "python3",
      "display_name": "Python 3"
    },
    "language_info": {
      "name": "python"
    }
  },
  "cells": [
    {
      "cell_type": "code",
      "execution_count": null,
      "metadata": {
        "id": "CCcK-CeqZBhA"
      },
      "outputs": [],
      "source": [
        "import pandas as pd \n",
        "import numpy as np\n",
        "import matplotlib.pyplot as plt\n",
        "import math\n",
        "import statistics as st\n",
        "import scipy.stats as ss"
      ]
    },
    {
      "cell_type": "markdown",
      "source": [
        "# Задание 1 \n",
        "Рассчитать выборочное среднее  среднеквадратичное отклонение \n",
        "# Задание 2 \n",
        "Рассчитать доверительный интервал нормального распределения\n",
        "# Задание 3  \n",
        "Рассчитать доверительный интервал t-распределения Стьюдента с помощью выборочного среднего \n",
        "# Задание 4 \n",
        "Рассчитать доверительный интервал  t-распределения Стьюдента с помощью среднеквадратического отклонения"
      ],
      "metadata": {
        "id": "S_W8odnrHsOk"
      }
    },
    {
      "cell_type": "code",
      "source": [
        "one = pd.Series(open('1.txt', 'r'), dtype=float)\n",
        "two = pd.Series(open('2.txt', 'r'), dtype=float)\n",
        "three = pd.Series(open('3.txt', 'r'), dtype=float)\n",
        "four = pd.Series(open('4.txt', 'r'), dtype=float)"
      ],
      "metadata": {
        "id": "5DEHOeeEu9zy"
      },
      "execution_count": null,
      "outputs": []
    },
    {
      "cell_type": "markdown",
      "source": [
        "№1 "
      ],
      "metadata": {
        "id": "H5y54AEuIa_9"
      }
    },
    {
      "cell_type": "code",
      "source": [
        "mean_one = st.mean(one)\n",
        "mean_two = st.mean(two)\n",
        "mean_three = st.mean(three)\n",
        "mean_four = st.mean(four)\n",
        "mean_one, mean_two, mean_three, mean_four"
      ],
      "metadata": {
        "colab": {
          "base_uri": "https://localhost:8080/"
        },
        "id": "UDI1wWL5vfbR",
        "outputId": "febe5d8b-412f-41b4-fc1e-97a8f0f1d299"
      },
      "execution_count": null,
      "outputs": [
        {
          "output_type": "execute_result",
          "data": {
            "text/plain": [
              "(34.64650238112797, 54.78913353778599, 26.144978984571782, 67.31259841958332)"
            ]
          },
          "metadata": {},
          "execution_count": 7
        }
      ]
    },
    {
      "cell_type": "code",
      "source": [
        "Q_one = math.sqrt(st.variance(one))\n",
        "Q_two = math.sqrt(st.variance(two))\n",
        "Q_three = math.sqrt(st.variance(three))\n",
        "Q_four = math.sqrt(st.variance(four))\n",
        "Q_one, Q_two, Q_three, Q_four"
      ],
      "metadata": {
        "colab": {
          "base_uri": "https://localhost:8080/"
        },
        "id": "SKKcP00Yxrko",
        "outputId": "71ec98d6-ad93-4050-8df8-5bc0bb1c0db2"
      },
      "execution_count": null,
      "outputs": [
        {
          "output_type": "execute_result",
          "data": {
            "text/plain": [
              "(7.372473261851196, 5.217333585132137, 7.555186351496006, 8.534872700166943)"
            ]
          },
          "metadata": {},
          "execution_count": 8
        }
      ]
    },
    {
      "cell_type": "markdown",
      "source": [
        "№2 "
      ],
      "metadata": {
        "id": "cjo-67ABIdKc"
      }
    },
    {
      "cell_type": "code",
      "source": [
        "interval_norm_one = [mean_one - 1.96*(Q_one)/math.sqrt(len(one)), mean_one + 1.96*(Q_one)/math.sqrt(len(one))]\n",
        "interval_norm_two = [mean_two - 1.96*(Q_two)/math.sqrt(len(two)), mean_two + 1.96*(Q_two)/math.sqrt(len(two))]\n",
        "interval_norm_three = [mean_three - 1.96*(Q_three)/math.sqrt(len(three)), mean_three + 1.96*(Q_three)/math.sqrt(len(three))]\n",
        "interval_norm_four = [mean_four - 1.96*(Q_four)/math.sqrt(len(four)), mean_four + 1.96*(Q_four)/math.sqrt(len(four))]\n",
        "interval_norm_one, interval_norm_two, interval_norm_three, interval_norm_four"
      ],
      "metadata": {
        "colab": {
          "base_uri": "https://localhost:8080/"
        },
        "id": "XQmaRdaKxsVS",
        "outputId": "4cec8b11-644f-433d-d7b0-86727b301254"
      },
      "execution_count": null,
      "outputs": [
        {
          "output_type": "execute_result",
          "data": {
            "text/plain": [
              "([33.20149762180514, 36.09150714045081],\n",
              " [51.55539667917172, 58.022870396400265],\n",
              " [24.664162459678565, 27.625795509465],\n",
              " [62.022629514248024, 72.60256732491862])"
            ]
          },
          "metadata": {},
          "execution_count": 9
        }
      ]
    },
    {
      "cell_type": "markdown",
      "source": [
        "№3"
      ],
      "metadata": {
        "id": "dAYyjdAtIfdb"
      }
    },
    {
      "cell_type": "code",
      "source": [
        "interval_t_one = list(ss.t.interval(alpha=0.95, df=len(one)-1, loc=mean_one)) \n",
        "interval_t_two = list(ss.t.interval(alpha=0.95, df=len(two)-1, loc=mean_two)) \n",
        "interval_t_three = list(ss.t.interval(alpha=0.95, df=len(three)-1, loc=mean_three)) \n",
        "interval_t_four = list(ss.t.interval(alpha=0.95, df=len(four)-1, loc=mean_four)) \n",
        "interval_t_one, interval_t_two, interval_t_three, interval_t_four"
      ],
      "metadata": {
        "colab": {
          "base_uri": "https://localhost:8080/"
        },
        "id": "aC874wtn870b",
        "outputId": "7639a382-64f5-4a58-923d-7ea24b5e5884"
      },
      "execution_count": null,
      "outputs": [
        {
          "output_type": "execute_result",
          "data": {
            "text/plain": [
              "([32.66228542961929, 36.63071933263666],\n",
              " [52.526976375045, 57.051290700526984],\n",
              " [24.1607620330631, 28.129195936080464],\n",
              " [65.05044125684233, 69.57475558232431])"
            ]
          },
          "metadata": {},
          "execution_count": 10
        }
      ]
    },
    {
      "cell_type": "code",
      "source": [
        "from scipy.stats import chi2"
      ],
      "metadata": {
        "id": "E8gDxD3Ul0Ge"
      },
      "execution_count": null,
      "outputs": []
    },
    {
      "cell_type": "markdown",
      "source": [
        "№4"
      ],
      "metadata": {
        "id": "RSXUhM7dIloB"
      }
    },
    {
      "cell_type": "code",
      "source": [
        "interval_hi_one = [(Q_one * math.sqrt(len(one) - 1))/math.sqrt(chi2.ppf((0.025), 99)), Q_one * math.sqrt(len(one))/math.sqrt(chi2.ppf((0.975), 99))]\n",
        "interval_hi_two = [(Q_two * math.sqrt(len(two)))/math.sqrt(19), Q_two * math.sqrt(len(two))/math.sqrt(2.70)]\n",
        "interval_hi_three = [(Q_three * math.sqrt(len(three)))/math.sqrt(chi2.ppf((0.025), 99)), Q_three * math.sqrt(len(three))/math.sqrt(chi2.ppf((0.975), 99))]\n",
        "interval_hi_four = [(Q_four * math.sqrt(len(four)))/math.sqrt(19), Q_four * math.sqrt(len(four))/math.sqrt(2.70)]\n",
        "interval_hi_one, interval_hi_two, interval_hi_three, interval_hi_four"
      ],
      "metadata": {
        "id": "2rOaxetjDcJ9",
        "colab": {
          "base_uri": "https://localhost:8080/"
        },
        "outputId": "4a5fdec5-06ef-4449-a380-aff3c049a2ab"
      },
      "execution_count": null,
      "outputs": [
        {
          "output_type": "execute_result",
          "data": {
            "text/plain": [
              "([8.564419758613754, 6.505692182693073],\n",
              " [3.785051604914686, 10.040763166093715],\n",
              " [8.820888291006709, 6.666923709313688],\n",
              " [6.191847441683424, 16.42537016980191])"
            ]
          },
          "metadata": {},
          "execution_count": 40
        }
      ]
    }
  ]
}