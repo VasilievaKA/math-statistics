{
  "cells": [
    {
      "cell_type": "code",
      "execution_count": null,
      "metadata": {
        "id": "CCcK-CeqZBhA"
      },
      "outputs": [],
      "source": [
        "import pandas as pd \n",
        "import numpy as np\n",
        "import matplotlib.pyplot as plt\n",
        "import math\n",
        "import statistics as st\n",
        "import seaborn as s"
      ]
    },
    {
      "cell_type": "markdown",
      "source": [
        "# Задание 1\n",
        "Для Z данных построить вариационный ряд, полигон относительных частот.   \n",
        "Для R данных построить данных таблицу групп и гистограмму. \n",
        "# Задание 2\n",
        "Построить для целочисленных(Z) и вещественных (R) данных эмпирическую функцию распределения F*(y).\n",
        "# Задание 3\n",
        "Для целых и вещественных данных расписать описательные статистики:  \n",
        "*   выборочное среднее\n",
        "*   выборочную дисперсию \n",
        "*   сренеквадратическое отклонение \n",
        "*   выборочную вариацию \n",
        "\n",
        "\n",
        "\n"
      ],
      "metadata": {
        "id": "YLredVq2FCt5"
      }
    },
    {
      "cell_type": "markdown",
      "metadata": {
        "id": "wKBXeHLKjY3S"
      },
      "source": [
        "№1 для целочисленных данных"
      ]
    },
    {
      "cell_type": "code",
      "execution_count": null,
      "metadata": {
        "id": "4CPcC5N8ZuwE"
      },
      "outputs": [],
      "source": [
        "df = pd.read_csv('new.csv')\n",
        "df = df.drop(['Случайное число [0-8]', 'Группа', '№'], axis=1)\n",
        "df['Рост']=df['Рост'].str.replace(',','.')"
      ]
    },
    {
      "cell_type": "code",
      "execution_count": null,
      "metadata": {
        "colab": {
          "base_uri": "https://localhost:8080/",
          "height": 426
        },
        "id": "aTHR6RoQZ84_",
        "outputId": "9937035c-8bc7-4a4d-8a40-47acb4bd72da"
      },
      "outputs": [
        {
          "data": {
            "text/html": [
              "\n",
              "  <div id=\"df-5d599662-cfdd-4ef9-b85f-1cdbadc75fba\">\n",
              "    <div class=\"colab-df-container\">\n",
              "      <div>\n",
              "<style scoped>\n",
              "    .dataframe tbody tr th:only-of-type {\n",
              "        vertical-align: middle;\n",
              "    }\n",
              "\n",
              "    .dataframe tbody tr th {\n",
              "        vertical-align: top;\n",
              "    }\n",
              "\n",
              "    .dataframe thead th {\n",
              "        text-align: right;\n",
              "    }\n",
              "</style>\n",
              "<table border=\"1\" class=\"dataframe\">\n",
              "  <thead>\n",
              "    <tr style=\"text-align: right;\">\n",
              "      <th></th>\n",
              "      <th>з</th>\n",
              "      <th>n</th>\n",
              "      <th>p</th>\n",
              "    </tr>\n",
              "  </thead>\n",
              "  <tbody>\n",
              "    <tr>\n",
              "      <th>1</th>\n",
              "      <td>1</td>\n",
              "      <td>3.0</td>\n",
              "      <td>0.09375</td>\n",
              "    </tr>\n",
              "    <tr>\n",
              "      <th>2</th>\n",
              "      <td>2</td>\n",
              "      <td>5.0</td>\n",
              "      <td>0.15625</td>\n",
              "    </tr>\n",
              "    <tr>\n",
              "      <th>3</th>\n",
              "      <td>3</td>\n",
              "      <td>1.0</td>\n",
              "      <td>0.03125</td>\n",
              "    </tr>\n",
              "    <tr>\n",
              "      <th>4</th>\n",
              "      <td>4</td>\n",
              "      <td>4.0</td>\n",
              "      <td>0.12500</td>\n",
              "    </tr>\n",
              "    <tr>\n",
              "      <th>5</th>\n",
              "      <td>5</td>\n",
              "      <td>1.0</td>\n",
              "      <td>0.03125</td>\n",
              "    </tr>\n",
              "    <tr>\n",
              "      <th>6</th>\n",
              "      <td>6</td>\n",
              "      <td>6.0</td>\n",
              "      <td>0.18750</td>\n",
              "    </tr>\n",
              "    <tr>\n",
              "      <th>7</th>\n",
              "      <td>7</td>\n",
              "      <td>5.0</td>\n",
              "      <td>0.15625</td>\n",
              "    </tr>\n",
              "    <tr>\n",
              "      <th>8</th>\n",
              "      <td>8</td>\n",
              "      <td>1.0</td>\n",
              "      <td>0.03125</td>\n",
              "    </tr>\n",
              "    <tr>\n",
              "      <th>9</th>\n",
              "      <td>9</td>\n",
              "      <td>1.0</td>\n",
              "      <td>0.03125</td>\n",
              "    </tr>\n",
              "    <tr>\n",
              "      <th>10</th>\n",
              "      <td>10</td>\n",
              "      <td>3.0</td>\n",
              "      <td>0.09375</td>\n",
              "    </tr>\n",
              "    <tr>\n",
              "      <th>11</th>\n",
              "      <td>11</td>\n",
              "      <td>1.0</td>\n",
              "      <td>0.03125</td>\n",
              "    </tr>\n",
              "    <tr>\n",
              "      <th>12</th>\n",
              "      <td>12</td>\n",
              "      <td>1.0</td>\n",
              "      <td>0.03125</td>\n",
              "    </tr>\n",
              "  </tbody>\n",
              "</table>\n",
              "</div>\n",
              "      <button class=\"colab-df-convert\" onclick=\"convertToInteractive('df-5d599662-cfdd-4ef9-b85f-1cdbadc75fba')\"\n",
              "              title=\"Convert this dataframe to an interactive table.\"\n",
              "              style=\"display:none;\">\n",
              "        \n",
              "  <svg xmlns=\"http://www.w3.org/2000/svg\" height=\"24px\"viewBox=\"0 0 24 24\"\n",
              "       width=\"24px\">\n",
              "    <path d=\"M0 0h24v24H0V0z\" fill=\"none\"/>\n",
              "    <path d=\"M18.56 5.44l.94 2.06.94-2.06 2.06-.94-2.06-.94-.94-2.06-.94 2.06-2.06.94zm-11 1L8.5 8.5l.94-2.06 2.06-.94-2.06-.94L8.5 2.5l-.94 2.06-2.06.94zm10 10l.94 2.06.94-2.06 2.06-.94-2.06-.94-.94-2.06-.94 2.06-2.06.94z\"/><path d=\"M17.41 7.96l-1.37-1.37c-.4-.4-.92-.59-1.43-.59-.52 0-1.04.2-1.43.59L10.3 9.45l-7.72 7.72c-.78.78-.78 2.05 0 2.83L4 21.41c.39.39.9.59 1.41.59.51 0 1.02-.2 1.41-.59l7.78-7.78 2.81-2.81c.8-.78.8-2.07 0-2.86zM5.41 20L4 18.59l7.72-7.72 1.47 1.35L5.41 20z\"/>\n",
              "  </svg>\n",
              "      </button>\n",
              "      \n",
              "  <style>\n",
              "    .colab-df-container {\n",
              "      display:flex;\n",
              "      flex-wrap:wrap;\n",
              "      gap: 12px;\n",
              "    }\n",
              "\n",
              "    .colab-df-convert {\n",
              "      background-color: #E8F0FE;\n",
              "      border: none;\n",
              "      border-radius: 50%;\n",
              "      cursor: pointer;\n",
              "      display: none;\n",
              "      fill: #1967D2;\n",
              "      height: 32px;\n",
              "      padding: 0 0 0 0;\n",
              "      width: 32px;\n",
              "    }\n",
              "\n",
              "    .colab-df-convert:hover {\n",
              "      background-color: #E2EBFA;\n",
              "      box-shadow: 0px 1px 2px rgba(60, 64, 67, 0.3), 0px 1px 3px 1px rgba(60, 64, 67, 0.15);\n",
              "      fill: #174EA6;\n",
              "    }\n",
              "\n",
              "    [theme=dark] .colab-df-convert {\n",
              "      background-color: #3B4455;\n",
              "      fill: #D2E3FC;\n",
              "    }\n",
              "\n",
              "    [theme=dark] .colab-df-convert:hover {\n",
              "      background-color: #434B5C;\n",
              "      box-shadow: 0px 1px 3px 1px rgba(0, 0, 0, 0.15);\n",
              "      filter: drop-shadow(0px 1px 2px rgba(0, 0, 0, 0.3));\n",
              "      fill: #FFFFFF;\n",
              "    }\n",
              "  </style>\n",
              "\n",
              "      <script>\n",
              "        const buttonEl =\n",
              "          document.querySelector('#df-5d599662-cfdd-4ef9-b85f-1cdbadc75fba button.colab-df-convert');\n",
              "        buttonEl.style.display =\n",
              "          google.colab.kernel.accessAllowed ? 'block' : 'none';\n",
              "\n",
              "        async function convertToInteractive(key) {\n",
              "          const element = document.querySelector('#df-5d599662-cfdd-4ef9-b85f-1cdbadc75fba');\n",
              "          const dataTable =\n",
              "            await google.colab.kernel.invokeFunction('convertToInteractive',\n",
              "                                                     [key], {});\n",
              "          if (!dataTable) return;\n",
              "\n",
              "          const docLinkHtml = 'Like what you see? Visit the ' +\n",
              "            '<a target=\"_blank\" href=https://colab.research.google.com/notebooks/data_table.ipynb>data table notebook</a>'\n",
              "            + ' to learn more about interactive tables.';\n",
              "          element.innerHTML = '';\n",
              "          dataTable['output_type'] = 'display_data';\n",
              "          await google.colab.output.renderOutput(dataTable, element);\n",
              "          const docLink = document.createElement('div');\n",
              "          docLink.innerHTML = docLinkHtml;\n",
              "          element.appendChild(docLink);\n",
              "        }\n",
              "      </script>\n",
              "    </div>\n",
              "  </div>\n",
              "  "
            ],
            "text/plain": [
              "     з    n        p\n",
              "1    1  3.0  0.09375\n",
              "2    2  5.0  0.15625\n",
              "3    3  1.0  0.03125\n",
              "4    4  4.0  0.12500\n",
              "5    5  1.0  0.03125\n",
              "6    6  6.0  0.18750\n",
              "7    7  5.0  0.15625\n",
              "8    8  1.0  0.03125\n",
              "9    9  1.0  0.03125\n",
              "10  10  3.0  0.09375\n",
              "11  11  1.0  0.03125\n",
              "12  12  1.0  0.03125"
            ]
          },
          "execution_count": 17,
          "metadata": {},
          "output_type": "execute_result"
        }
      ],
      "source": [
        "vr = pd.DataFrame()\n",
        "vr['з'] = range(1, 14) \n",
        "vr['n'] = df['Месяц рождения'].value_counts().sort_index(ascending=True)\n",
        "vr['p'] = df['Месяц рождения'].value_counts(normalize=True)\n",
        "vr = vr.drop([0])\n",
        "vr['з'] = range(1, 13)\n",
        "vr"
      ]
    },
    {
      "cell_type": "code",
      "execution_count": null,
      "metadata": {
        "colab": {
          "base_uri": "https://localhost:8080/",
          "height": 298
        },
        "id": "cKwThnyIbgW0",
        "outputId": "ec66e176-65f6-42e1-8e27-56b00706093f"
      },
      "outputs": [
        {
          "data": {
            "text/plain": [
              "[<matplotlib.lines.Line2D at 0x7fb6de243110>]"
            ]
          },
          "execution_count": 4,
          "metadata": {},
          "output_type": "execute_result"
        },
        {
          "data": {
            "image/png": "[encoded data removed]",
            "text/plain": [
              "<Figure size 432x288 with 1 Axes>"
            ]
          },
          "metadata": {},
          "output_type": "display_data"
        }
      ],
      "source": [
        "plt.title(\"Полигон относительных частот\")\n",
        "plt.plot(vr['з'], vr['p'])"
      ]
    },
    {
      "cell_type": "markdown",
      "metadata": {
        "id": "EBLc7cu1jj1M"
      },
      "source": [
        "№1 для вещественных данных"
      ]
    },
    {
      "cell_type": "code",
      "execution_count": null,
      "metadata": {
        "colab": {
          "base_uri": "https://localhost:8080/",
          "height": 548
        },
        "id": "tqtq5wVifTN5",
        "outputId": "25f43819-98d0-4ffc-ddf1-62bc4c504838"
      },
      "outputs": [
        {
          "name": "stderr",
          "output_type": "stream",
          "text": [
            "/usr/local/lib/python3.7/dist-packages/ipykernel_launcher.py:21: SettingWithCopyWarning: \n",
            "A value is trying to be set on a copy of a slice from a DataFrame\n",
            "\n",
            "See the caveats in the documentation: https://pandas.pydata.org/pandas-docs/stable/user_guide/indexing.html#returning-a-view-versus-a-copy\n",
            "/usr/local/lib/python3.7/dist-packages/ipykernel_launcher.py:18: SettingWithCopyWarning: \n",
            "A value is trying to be set on a copy of a slice from a DataFrame\n",
            "\n",
            "See the caveats in the documentation: https://pandas.pydata.org/pandas-docs/stable/user_guide/indexing.html#returning-a-view-versus-a-copy\n",
            "/usr/local/lib/python3.7/dist-packages/ipykernel_launcher.py:27: DeprecationWarning: `np.float` is a deprecated alias for the builtin `float`. To silence this warning, use `float` by itself. Doing this will not modify any behavior and is safe. If you specifically wanted the numpy scalar type, use `np.float64` here.\n",
            "Deprecated in NumPy 1.20; for more details and guidance: https://numpy.org/devdocs/release/1.20.0-notes.html#deprecations\n",
            "/usr/local/lib/python3.7/dist-packages/seaborn/_decorators.py:43: FutureWarning: Pass the following variables as keyword args: x, y. From version 0.12, the only valid positional argument will be `data`, and passing other arguments without an explicit keyword will result in an error or misinterpretation.\n",
            "  FutureWarning\n"
          ]
        },
        {
          "data": {
            "image/png": "[encoded data removed]",
            "text/plain": [
              "<Figure size 720x360 with 1 Axes>"
            ]
          },
          "metadata": {},
          "output_type": "display_data"
        }
      ],
      "source": [
        "hist = pd.DataFrame()\n",
        "n = 1 + math.floor(math.log2(len(df['Рост'])))\n",
        "h = round((float(df['Рост'].max()) - float(df['Рост'].min()))/n, 3)\n",
        "m = list()\n",
        "for i in range(0,n+1): \n",
        "  a = float(float(df['Рост'].min()) + h*i)\n",
        "  m.append(a)\n",
        "hist['з_start'] = m\n",
        "m.remove(m[0])\n",
        "m.append(0)\n",
        "hist['з_end'] = m \n",
        "hist = hist.drop(6)\n",
        "hist['n'] = 0\n",
        "for i in df['Рост']:\n",
        "  for j in range(6):\n",
        "    if j == 5:\n",
        "      if float(i) >= float(hist['з_start'][j]) and float(i) <= float(hist['з_end'][j]):\n",
        "        hist['n'][j] += 1\n",
        "    else: \n",
        "      if float(i) >= float(hist['з_start'][j]) and float(i) < float(hist['з_end'][j]):\n",
        "        hist['n'][j] += 1\n",
        "m = list()\n",
        "for i in range(6): \n",
        "  a = hist['n'][i]/32\n",
        "  m.append(a)\n",
        "hist['p'] = m\n",
        "df = df.astype({'Рост': np.float})\n",
        "l = ['[1.590, 1.655]', '(1.655, 1.720]', '(1.720, 1.785]', '(1.785, 1.850]', '(1.850, 1.915]', '(1.915, 1.980]']\n",
        "plt.figure(figsize=(10, 5))\n",
        "s.barplot(l, hist['p'])\n",
        "plt.show()"
      ]
    },
    {
      "cell_type": "code",
      "execution_count": null,
      "metadata": {
        "colab": {
          "background_save": true,
          "base_uri": "https://localhost:8080/",
          "height": 269
        },
        "id": "rhePby9s0M3x",
        "outputId": "e7617ead-0f62-496c-a4aa-eaa321ed1fed"
      },
      "outputs": [
        {
          "data": {
            "text/plain": [
              "(array([8., 3., 6., 8., 4., 3.]),\n",
              " array([1.59 , 1.655, 1.72 , 1.785, 1.85 , 1.915, 1.98 ]),\n",
              " <a list of 6 Patch objects>)"
            ]
          },
          "execution_count": 28,
          "metadata": {},
          "output_type": "execute_result"
        },
        {
          "data": {
            "image/png": "[encoded data removed]",
            "text/plain": [
              "<Figure size 432x288 with 1 Axes>"
            ]
          },
          "metadata": {},
          "output_type": "display_data"
        }
      ],
      "source": [
        "n, bins, patches = plt.hist(df, density=True, facecolor='g')\n",
        "plt.xlim(1.59, 1.98)\n",
        "plt.ylim(0, 0.25)\n",
        "plt.grid(True)"
      ]
    },
    {
      "cell_type": "code",
      "execution_count": null,
      "metadata": {
        "colab": {
          "base_uri": "https://localhost:8080/",
          "height": 282
        },
        "id": "qk2R8pvbTpnI",
        "outputId": "ab55d846-2734-4b88-8584-6383eb042165"
      },
      "outputs": [
        {
          "data": {
            "text/plain": [
              "<matplotlib.axes._subplots.AxesSubplot at 0x7fb6dac08ad0>"
            ]
          },
          "execution_count": 16,
          "metadata": {},
          "output_type": "execute_result"
        },
        {
          "data": {
            "image/png": "[encoded data removed]",
            "text/plain": [
              "<Figure size 432x288 with 1 Axes>"
            ]
          },
          "metadata": {},
          "output_type": "display_data"
        }
      ],
      "source": [
        "s.histplot([hist['з_start'], hist['p']], bins=6)"
      ]
    },
    {
      "cell_type": "code",
      "execution_count": null,
      "metadata": {
        "colab": {
          "base_uri": "https://localhost:8080/",
          "height": 237
        },
        "id": "ZrWWo7lorSYc",
        "outputId": "83d076fa-c0b1-4433-c0d7-268eebdce152"
      },
      "outputs": [
        {
          "data": {
            "text/html": [
              "\n",
              "  <div id=\"df-9d398a2a-707d-4fba-a3e4-b26cdf88dea7\">\n",
              "    <div class=\"colab-df-container\">\n",
              "      <div>\n",
              "<style scoped>\n",
              "    .dataframe tbody tr th:only-of-type {\n",
              "        vertical-align: middle;\n",
              "    }\n",
              "\n",
              "    .dataframe tbody tr th {\n",
              "        vertical-align: top;\n",
              "    }\n",
              "\n",
              "    .dataframe thead th {\n",
              "        text-align: right;\n",
              "    }\n",
              "</style>\n",
              "<table border=\"1\" class=\"dataframe\">\n",
              "  <thead>\n",
              "    <tr style=\"text-align: right;\">\n",
              "      <th></th>\n",
              "      <th>з_start</th>\n",
              "      <th>з_end</th>\n",
              "      <th>n</th>\n",
              "      <th>p</th>\n",
              "    </tr>\n",
              "  </thead>\n",
              "  <tbody>\n",
              "    <tr>\n",
              "      <th>0</th>\n",
              "      <td>1.590</td>\n",
              "      <td>1.655</td>\n",
              "      <td>8</td>\n",
              "      <td>0.25000</td>\n",
              "    </tr>\n",
              "    <tr>\n",
              "      <th>1</th>\n",
              "      <td>1.655</td>\n",
              "      <td>1.720</td>\n",
              "      <td>3</td>\n",
              "      <td>0.09375</td>\n",
              "    </tr>\n",
              "    <tr>\n",
              "      <th>2</th>\n",
              "      <td>1.720</td>\n",
              "      <td>1.785</td>\n",
              "      <td>6</td>\n",
              "      <td>0.18750</td>\n",
              "    </tr>\n",
              "    <tr>\n",
              "      <th>3</th>\n",
              "      <td>1.785</td>\n",
              "      <td>1.850</td>\n",
              "      <td>8</td>\n",
              "      <td>0.25000</td>\n",
              "    </tr>\n",
              "    <tr>\n",
              "      <th>4</th>\n",
              "      <td>1.850</td>\n",
              "      <td>1.915</td>\n",
              "      <td>4</td>\n",
              "      <td>0.12500</td>\n",
              "    </tr>\n",
              "    <tr>\n",
              "      <th>5</th>\n",
              "      <td>1.915</td>\n",
              "      <td>1.980</td>\n",
              "      <td>3</td>\n",
              "      <td>0.09375</td>\n",
              "    </tr>\n",
              "  </tbody>\n",
              "</table>\n",
              "</div>\n",
              "      <button class=\"colab-df-convert\" onclick=\"convertToInteractive('df-9d398a2a-707d-4fba-a3e4-b26cdf88dea7')\"\n",
              "              title=\"Convert this dataframe to an interactive table.\"\n",
              "              style=\"display:none;\">\n",
              "        \n",
              "  <svg xmlns=\"http://www.w3.org/2000/svg\" height=\"24px\"viewBox=\"0 0 24 24\"\n",
              "       width=\"24px\">\n",
              "    <path d=\"M0 0h24v24H0V0z\" fill=\"none\"/>\n",
              "    <path d=\"M18.56 5.44l.94 2.06.94-2.06 2.06-.94-2.06-.94-.94-2.06-.94 2.06-2.06.94zm-11 1L8.5 8.5l.94-2.06 2.06-.94-2.06-.94L8.5 2.5l-.94 2.06-2.06.94zm10 10l.94 2.06.94-2.06 2.06-.94-2.06-.94-.94-2.06-.94 2.06-2.06.94z\"/><path d=\"M17.41 7.96l-1.37-1.37c-.4-.4-.92-.59-1.43-.59-.52 0-1.04.2-1.43.59L10.3 9.45l-7.72 7.72c-.78.78-.78 2.05 0 2.83L4 21.41c.39.39.9.59 1.41.59.51 0 1.02-.2 1.41-.59l7.78-7.78 2.81-2.81c.8-.78.8-2.07 0-2.86zM5.41 20L4 18.59l7.72-7.72 1.47 1.35L5.41 20z\"/>\n",
              "  </svg>\n",
              "      </button>\n",
              "      \n",
              "  <style>\n",
              "    .colab-df-container {\n",
              "      display:flex;\n",
              "      flex-wrap:wrap;\n",
              "      gap: 12px;\n",
              "    }\n",
              "\n",
              "    .colab-df-convert {\n",
              "      background-color: #E8F0FE;\n",
              "      border: none;\n",
              "      border-radius: 50%;\n",
              "      cursor: pointer;\n",
              "      display: none;\n",
              "      fill: #1967D2;\n",
              "      height: 32px;\n",
              "      padding: 0 0 0 0;\n",
              "      width: 32px;\n",
              "    }\n",
              "\n",
              "    .colab-df-convert:hover {\n",
              "      background-color: #E2EBFA;\n",
              "      box-shadow: 0px 1px 2px rgba(60, 64, 67, 0.3), 0px 1px 3px 1px rgba(60, 64, 67, 0.15);\n",
              "      fill: #174EA6;\n",
              "    }\n",
              "\n",
              "    [theme=dark] .colab-df-convert {\n",
              "      background-color: #3B4455;\n",
              "      fill: #D2E3FC;\n",
              "    }\n",
              "\n",
              "    [theme=dark] .colab-df-convert:hover {\n",
              "      background-color: #434B5C;\n",
              "      box-shadow: 0px 1px 3px 1px rgba(0, 0, 0, 0.15);\n",
              "      filter: drop-shadow(0px 1px 2px rgba(0, 0, 0, 0.3));\n",
              "      fill: #FFFFFF;\n",
              "    }\n",
              "  </style>\n",
              "\n",
              "      <script>\n",
              "        const buttonEl =\n",
              "          document.querySelector('#df-9d398a2a-707d-4fba-a3e4-b26cdf88dea7 button.colab-df-convert');\n",
              "        buttonEl.style.display =\n",
              "          google.colab.kernel.accessAllowed ? 'block' : 'none';\n",
              "\n",
              "        async function convertToInteractive(key) {\n",
              "          const element = document.querySelector('#df-9d398a2a-707d-4fba-a3e4-b26cdf88dea7');\n",
              "          const dataTable =\n",
              "            await google.colab.kernel.invokeFunction('convertToInteractive',\n",
              "                                                     [key], {});\n",
              "          if (!dataTable) return;\n",
              "\n",
              "          const docLinkHtml = 'Like what you see? Visit the ' +\n",
              "            '<a target=\"_blank\" href=https://colab.research.google.com/notebooks/data_table.ipynb>data table notebook</a>'\n",
              "            + ' to learn more about interactive tables.';\n",
              "          element.innerHTML = '';\n",
              "          dataTable['output_type'] = 'display_data';\n",
              "          await google.colab.output.renderOutput(dataTable, element);\n",
              "          const docLink = document.createElement('div');\n",
              "          docLink.innerHTML = docLinkHtml;\n",
              "          element.appendChild(docLink);\n",
              "        }\n",
              "      </script>\n",
              "    </div>\n",
              "  </div>\n",
              "  "
            ],
            "text/plain": [
              "   з_start  з_end  n        p\n",
              "0    1.590  1.655  8  0.25000\n",
              "1    1.655  1.720  3  0.09375\n",
              "2    1.720  1.785  6  0.18750\n",
              "3    1.785  1.850  8  0.25000\n",
              "4    1.850  1.915  4  0.12500\n",
              "5    1.915  1.980  3  0.09375"
            ]
          },
          "execution_count": 9,
          "metadata": {},
          "output_type": "execute_result"
        }
      ],
      "source": [
        "hist"
      ]
    },
    {
      "cell_type": "markdown",
      "metadata": {
        "id": "ikeuP1uOq44s"
      },
      "source": [
        "№2 для целочесленных"
      ]
    },
    {
      "cell_type": "code",
      "execution_count": null,
      "metadata": {
        "colab": {
          "base_uri": "https://localhost:8080/"
        },
        "id": "OgXIh8yZmpVQ",
        "outputId": "392ed01d-4280-47d6-a01d-a764a88213c7"
      },
      "outputs": [
        {
          "data": {
            "text/plain": [
              "[0,\n",
              " 0.09375,\n",
              " 0.25,\n",
              " 0.28125,\n",
              " 0.40625,\n",
              " 0.4375,\n",
              " 0.625,\n",
              " 0.78125,\n",
              " 0.8125,\n",
              " 0.84375,\n",
              " 0.9375,\n",
              " 0.96875,\n",
              " 1.0]"
            ]
          },
          "execution_count": 11,
          "metadata": {},
          "output_type": "execute_result"
        }
      ],
      "source": [
        "func_for_R = [0]\n",
        "sum = 0\n",
        "for i in vr['p']:\n",
        "  sum += i\n",
        "  func_for_R.append(sum)\n",
        "func_for_R"
      ]
    },
    {
      "cell_type": "markdown",
      "metadata": {
        "id": "dUJT6j1Vq9bP"
      },
      "source": [
        "№2 для вещественных"
      ]
    },
    {
      "cell_type": "code",
      "execution_count": null,
      "metadata": {
        "colab": {
          "base_uri": "https://localhost:8080/"
        },
        "id": "wzx82IgirA-Y",
        "outputId": "e77a86e0-fd64-4530-d751-816a503081c5"
      },
      "outputs": [
        {
          "data": {
            "text/plain": [
              "([0, 0.25, 0.34375, 0.53125, 0.78125, 0.90625, 1.0],\n",
              " [0,\n",
              "  0.09375,\n",
              "  0.25,\n",
              "  0.28125,\n",
              "  0.40625,\n",
              "  0.4375,\n",
              "  0.625,\n",
              "  0.78125,\n",
              "  0.8125,\n",
              "  0.84375,\n",
              "  0.9375,\n",
              "  0.96875,\n",
              "  1.0])"
            ]
          },
          "execution_count": 58,
          "metadata": {},
          "output_type": "execute_result"
        }
      ],
      "source": [
        "func_for_Z = [0]\n",
        "sum = 0\n",
        "for i in hist['p']:\n",
        "  sum += i\n",
        "  func_for_Z.append(sum)\n",
        "func_for_Z, func_for_R"
      ]
    },
    {
      "cell_type": "markdown",
      "source": [
        "№ 3"
      ],
      "metadata": {
        "id": "_lxz0kLyFwEY"
      }
    },
    {
      "cell_type": "code",
      "execution_count": null,
      "metadata": {
        "colab": {
          "base_uri": "https://localhost:8080/"
        },
        "id": "d9V6Q-aCord3",
        "outputId": "639df257-3e62-49c1-a674-fbb9fa8c0c7f"
      },
      "outputs": [
        {
          "data": {
            "text/plain": [
              "(5.5625, 9.737903225806452, 3.1205613638905505, 0.5609997957556045)"
            ]
          },
          "execution_count": 53,
          "metadata": {},
          "output_type": "execute_result"
        }
      ],
      "source": [
        "X_R = st.mean(df['Месяц рождения'])\n",
        "D_R = st.variance(df['Месяц рождения'])\n",
        "Q_R = math.sqrt(D_R)\n",
        "V_R = Q_R/X_R\n",
        "X_R, D_R, Q_R, V_R"
      ]
    },
    {
      "cell_type": "code",
      "execution_count": null,
      "metadata": {
        "colab": {
          "base_uri": "https://localhost:8080/"
        },
        "id": "6YsIlQoKo3yv",
        "outputId": "cb07d9e3-e952-4b38-905e-f42cd3ead351"
      },
      "outputs": [
        {
          "data": {
            "text/plain": [
              "(1.7628125, 0.011717641129032258, 0.10824805369627788, 0.061406447762469285)"
            ]
          },
          "execution_count": 55,
          "metadata": {},
          "output_type": "execute_result"
        }
      ],
      "source": [
        "df = df.astype({'Рост': np.float64})\n",
        "X_Z = st.mean(df['Рост'])\n",
        "D_Z = st.variance(df['Рост'])\n",
        "Q_Z = math.sqrt(D_Z)\n",
        "V_Z = Q_Z/X_Z\n",
        "X_Z, D_Z, Q_Z, V_Z"
      ]
    }
  ],
  "metadata": {
    "colab": {
      "provenance": []
    },
    "kernelspec": {
      "display_name": "Python 3",
      "name": "python3"
    },
    "language_info": {
      "name": "python"
    }
  },
  "nbformat": 4,
  "nbformat_minor": 0
}